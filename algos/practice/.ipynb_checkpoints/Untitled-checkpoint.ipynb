{
 "cells": [
  {
   "cell_type": "code",
   "execution_count": 8,
   "metadata": {},
   "outputs": [
    {
     "name": "stdout",
     "output_type": "stream",
     "text": [
      "6\n"
     ]
    }
   ],
   "source": [
    "# h-index problem\n",
    "\n",
    "pubs = ['A','B','C','D','E','F','G','H','I']\n",
    "cits = [1,23,6,7,8,9,6,5,5,5,5,5]\n",
    "\n",
    "\n",
    "\n",
    "\n",
    "def hindex(cits):\n",
    "    cits.sort()\n",
    "    tot = len(cits)\n",
    "    for i in range(0,tot):\n",
    "        if tot - i < cits[i]:\n",
    "            return cits[i]\n",
    "    return 0\n",
    "print(hindex(cits))\n"
   ]
  }
 ],
 "metadata": {
  "kernelspec": {
   "display_name": "Python 3",
   "language": "python",
   "name": "python3"
  },
  "language_info": {
   "codemirror_mode": {
    "name": "ipython",
    "version": 3
   },
   "file_extension": ".py",
   "mimetype": "text/x-python",
   "name": "python",
   "nbconvert_exporter": "python",
   "pygments_lexer": "ipython3",
   "version": "3.7.4"
  }
 },
 "nbformat": 4,
 "nbformat_minor": 2
}
